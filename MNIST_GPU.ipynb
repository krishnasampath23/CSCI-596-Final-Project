{
  "nbformat": 4,
  "nbformat_minor": 0,
  "metadata": {
    "colab": {
      "name": "MNIST_GPU.ipynb",
      "provenance": []
    },
    "kernelspec": {
      "name": "python3",
      "display_name": "Python 3"
    },
    "language_info": {
      "name": "python"
    },
    "accelerator": "GPU"
  },
  "cells": [
    {
      "cell_type": "code",
      "source": [
        "import tensorflow as tf\n",
        "import tensorflow_datasets as tfds"
      ],
      "metadata": {
        "id": "UAezUZovLx9f"
      },
      "execution_count": 59,
      "outputs": []
    },
    {
      "cell_type": "code",
      "source": [
        "(ds_train, ds_test), ds_info = tfds.load(\n",
        "    'mnist',\n",
        "    split=['train', 'test'],\n",
        "    shuffle_files=True,\n",
        "    as_supervised=True,\n",
        "    with_info=True,\n",
        "    )"
      ],
      "metadata": {
        "colab": {
          "base_uri": "https://localhost:8080/"
        },
        "id": "ri9a1OoqLy9S",
        "outputId": "8d43a99b-cc76-4c96-916e-c237dcbaeb73"
      },
      "execution_count": 60,
      "outputs": [
        {
          "output_type": "stream",
          "name": "stderr",
          "text": [
            "I1214 09:10:47.828464 139972721391488 dataset_info.py:361] Load dataset info from /root/tensorflow_datasets/mnist/3.0.1\n",
            "I1214 09:10:47.837153 139972721391488 dataset_info.py:405] Field info.citation from disk and from code do not match. Keeping the one from code.\n",
            "I1214 09:10:47.842967 139972721391488 dataset_builder.py:299] Reusing dataset mnist (/root/tensorflow_datasets/mnist/3.0.1)\n",
            "I1214 09:10:47.844628 139972721391488 dataset_builder.py:511] Constructing tf.data.Dataset for split ['train', 'test'], from /root/tensorflow_datasets/mnist/3.0.1\n"
          ]
        }
      ]
    },
    {
      "cell_type": "code",
      "source": [
        "def normalize_img(image, label):\n",
        "  \"\"\"Normalizes images: `uint8` -> `float32`.\"\"\"\n",
        "  return tf.cast(image, tf.float32) / 255., label\n",
        "\n",
        "ds_train = ds_train.map(\n",
        "    normalize_img, num_parallel_calls=tf.data.AUTOTUNE)\n",
        "ds_train = ds_train.cache()\n",
        "ds_train = ds_train.shuffle(ds_info.splits['train'].num_examples)\n",
        "ds_train = ds_train.batch(1024)\n",
        "ds_train = ds_train.prefetch(tf.data.AUTOTUNE)"
      ],
      "metadata": {
        "id": "BuCJD69qL9mg"
      },
      "execution_count": 61,
      "outputs": []
    },
    {
      "cell_type": "code",
      "source": [
        "ds_test = ds_test.map(\n",
        "    normalize_img, num_parallel_calls=tf.data.AUTOTUNE)\n",
        "ds_test = ds_test.batch(1024)\n",
        "ds_test = ds_test.cache()\n",
        "ds_test = ds_test.prefetch(tf.data.AUTOTUNE)"
      ],
      "metadata": {
        "id": "z3gAfsx2MBsQ"
      },
      "execution_count": 62,
      "outputs": []
    },
    {
      "cell_type": "code",
      "source": [
        "model = tf.keras.models.Sequential([\n",
        "  tf.keras.layers.Flatten(input_shape=(28, 28)),\n",
        "  tf.keras.layers.Dense(1024, activation='relu'),\n",
        "  tf.keras.layers.Dense(10)\n",
        "])"
      ],
      "metadata": {
        "id": "wOmS4dFPMaHG"
      },
      "execution_count": 63,
      "outputs": []
    },
    {
      "cell_type": "code",
      "source": [
        "model.compile(\n",
        "    optimizer=tf.keras.optimizers.Adam(0.001),\n",
        "    loss=tf.keras.losses.SparseCategoricalCrossentropy(from_logits=True),\n",
        "    metrics=[tf.keras.metrics.SparseCategoricalAccuracy()],\n",
        ")"
      ],
      "metadata": {
        "id": "SXUxQOuLMeV8"
      },
      "execution_count": 64,
      "outputs": []
    },
    {
      "cell_type": "code",
      "source": [
        "model.fit(\n",
        "    ds_train,\n",
        "    epochs=10,\n",
        "    validation_data=ds_test,\n",
        ")"
      ],
      "metadata": {
        "colab": {
          "base_uri": "https://localhost:8080/"
        },
        "id": "FGX7DYbxMhV7",
        "outputId": "6b58eae4-968e-4027-9d20-3dbc0478b92d"
      },
      "execution_count": 65,
      "outputs": [
        {
          "output_type": "stream",
          "name": "stdout",
          "text": [
            "Epoch 1/10\n",
            "59/59 [==============================] - 11s 32ms/step - loss: 0.4757 - sparse_categorical_accuracy: 0.8707 - val_loss: 0.2264 - val_sparse_categorical_accuracy: 0.9371\n",
            "Epoch 2/10\n",
            "59/59 [==============================] - 1s 9ms/step - loss: 0.1954 - sparse_categorical_accuracy: 0.9450 - val_loss: 0.1590 - val_sparse_categorical_accuracy: 0.9549\n",
            "Epoch 3/10\n",
            "59/59 [==============================] - 1s 9ms/step - loss: 0.1404 - sparse_categorical_accuracy: 0.9611 - val_loss: 0.1268 - val_sparse_categorical_accuracy: 0.9623\n",
            "Epoch 4/10\n",
            "59/59 [==============================] - 1s 8ms/step - loss: 0.1077 - sparse_categorical_accuracy: 0.9702 - val_loss: 0.1058 - val_sparse_categorical_accuracy: 0.9692\n",
            "Epoch 5/10\n",
            "59/59 [==============================] - 1s 9ms/step - loss: 0.0860 - sparse_categorical_accuracy: 0.9763 - val_loss: 0.0941 - val_sparse_categorical_accuracy: 0.9717\n",
            "Epoch 6/10\n",
            "59/59 [==============================] - 1s 9ms/step - loss: 0.0698 - sparse_categorical_accuracy: 0.9811 - val_loss: 0.0849 - val_sparse_categorical_accuracy: 0.9747\n",
            "Epoch 7/10\n",
            "59/59 [==============================] - 1s 8ms/step - loss: 0.0572 - sparse_categorical_accuracy: 0.9849 - val_loss: 0.0769 - val_sparse_categorical_accuracy: 0.9769\n",
            "Epoch 8/10\n",
            "59/59 [==============================] - 1s 9ms/step - loss: 0.0479 - sparse_categorical_accuracy: 0.9878 - val_loss: 0.0746 - val_sparse_categorical_accuracy: 0.9771\n",
            "Epoch 9/10\n",
            "59/59 [==============================] - 1s 8ms/step - loss: 0.0401 - sparse_categorical_accuracy: 0.9899 - val_loss: 0.0689 - val_sparse_categorical_accuracy: 0.9790\n",
            "Epoch 10/10\n",
            "59/59 [==============================] - 1s 8ms/step - loss: 0.0343 - sparse_categorical_accuracy: 0.9918 - val_loss: 0.0648 - val_sparse_categorical_accuracy: 0.9787\n"
          ]
        },
        {
          "output_type": "execute_result",
          "data": {
            "text/plain": [
              "<keras.callbacks.History at 0x7f4cb50f9f90>"
            ]
          },
          "metadata": {},
          "execution_count": 65
        }
      ]
    },
    {
      "cell_type": "code",
      "source": [
        ""
      ],
      "metadata": {
        "id": "Q955DakVMz5N"
      },
      "execution_count": null,
      "outputs": []
    }
  ]
}