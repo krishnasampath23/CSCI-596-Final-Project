{
  "nbformat": 4,
  "nbformat_minor": 0,
  "metadata": {
    "colab": {
      "name": "GPU Flowers Recognition.ipynb",
      "provenance": []
    },
    "kernelspec": {
      "name": "python3",
      "display_name": "Python 3"
    },
    "language_info": {
      "name": "python"
    },
    "accelerator": "GPU"
  },
  "cells": [
    {
      "cell_type": "code",
      "execution_count": 1,
      "metadata": {
        "id": "IIvhEJtsehQI"
      },
      "outputs": [],
      "source": [
        "import tensorflow as tf\n",
        "import numpy as np\n",
        "import matplotlib.pyplot as plt\n",
        "import seaborn as sns\n",
        "from sklearn.model_selection import train_test_split\n",
        "from sklearn.metrics import confusion_matrix\n",
        "from keras import Sequential\n",
        "import tensorflow_hub as hub\n",
        "from tensorflow.keras.optimizers import Adam\n",
        "from PIL import Image\n",
        "from tqdm import tqdm\n",
        "from keras.models import load_model\n",
        "import cv2    \n",
        "import os"
      ]
    },
    {
      "cell_type": "code",
      "source": [
        "from google.colab import drive\n",
        "drive.mount('/content/drive')"
      ],
      "metadata": {
        "colab": {
          "base_uri": "https://localhost:8080/"
        },
        "id": "23eq_Kpmo2k2",
        "outputId": "54a30f6c-48d1-46ab-a991-46a15793374b"
      },
      "execution_count": 17,
      "outputs": [
        {
          "output_type": "stream",
          "name": "stdout",
          "text": [
            "Drive already mounted at /content/drive; to attempt to forcibly remount, call drive.mount(\"/content/drive\", force_remount=True).\n"
          ]
        }
      ]
    },
    {
      "cell_type": "code",
      "source": [
        "directory = (\"/content/drive/MyDrive/Colab Notebooks/flowers\")"
      ],
      "metadata": {
        "id": "k-e2t8nZe9HZ"
      },
      "execution_count": 18,
      "outputs": []
    },
    {
      "cell_type": "code",
      "source": [
        "shape = (224, 224)\n",
        "\n",
        "TRAINING_DATA_DIR = str(directory)\n",
        "\n",
        "datagen_kwargs = dict(rescale=1./255, validation_split=.20)\n"
      ],
      "metadata": {
        "id": "wlaHnTTIlafh"
      },
      "execution_count": 19,
      "outputs": []
    },
    {
      "cell_type": "code",
      "source": [
        "valid_datagen = tf.keras.preprocessing.image.ImageDataGenerator(**datagen_kwargs)\n",
        "valid_generator = valid_datagen.flow_from_directory(\n",
        "TRAINING_DATA_DIR,\n",
        "subset=\"validation\",\n",
        "shuffle=True,\n",
        "target_size=shape\n",
        ")"
      ],
      "metadata": {
        "colab": {
          "base_uri": "https://localhost:8080/"
        },
        "id": "Z2maXfGQlfB1",
        "outputId": "c8c03001-f19d-4352-a90d-be1452a7d6ea"
      },
      "execution_count": 20,
      "outputs": [
        {
          "output_type": "stream",
          "name": "stdout",
          "text": [
            "Found 860 images belonging to 5 classes.\n"
          ]
        }
      ]
    },
    {
      "cell_type": "code",
      "source": [
        "train_datagen = tf.keras.preprocessing.image.ImageDataGenerator(**datagen_kwargs)\n",
        "train_generator = train_datagen.flow_from_directory(\n",
        "TRAINING_DATA_DIR,\n",
        "subset=\"training\",\n",
        "shuffle=True,\n",
        "target_size=shape)"
      ],
      "metadata": {
        "id": "aOB3wKNcmZs3",
        "colab": {
          "base_uri": "https://localhost:8080/"
        },
        "outputId": "034ff816-43a6-400d-8460-2c85bd87a019"
      },
      "execution_count": 21,
      "outputs": [
        {
          "output_type": "stream",
          "name": "stdout",
          "text": [
            "Found 3457 images belonging to 5 classes.\n"
          ]
        }
      ]
    },
    {
      "cell_type": "code",
      "source": [
        "print (train_generator.class_indices)\n",
        "labels = '\\n'.join(sorted(train_generator.class_indices.keys()))\n",
        "with open('labels.txt', 'w') as f:\n",
        " f.write(labels)\n"
      ],
      "metadata": {
        "colab": {
          "base_uri": "https://localhost:8080/"
        },
        "id": "EWpkYFgkpBvu",
        "outputId": "070a6cd3-7e61-45d3-938a-e75227a4a76b"
      },
      "execution_count": 22,
      "outputs": [
        {
          "output_type": "stream",
          "name": "stdout",
          "text": [
            "{'daisy': 0, 'dandelion': 1, 'rose': 2, 'sunflower': 3, 'tulip': 4}\n"
          ]
        }
      ]
    },
    {
      "cell_type": "code",
      "source": [
        "model = tf.keras.Sequential([\n",
        " hub.KerasLayer(\"https://tfhub.dev/google/tf2-preview/mobilenet_v2/feature_vector/4\", \n",
        " output_shape=[1280],\n",
        " trainable=False),\n",
        " tf.keras.layers.Dropout(0.4),\n",
        " tf.keras.layers.Dense(train_generator.num_classes, activation='softmax')\n",
        "])\n",
        "model.build([None, 224, 224, 3])\n",
        "model.summary()"
      ],
      "metadata": {
        "colab": {
          "base_uri": "https://localhost:8080/"
        },
        "id": "DFrIuyJ3pEwA",
        "outputId": "41569a35-ec92-4920-d9b1-1b8c6bf69061"
      },
      "execution_count": 23,
      "outputs": [
        {
          "output_type": "stream",
          "name": "stdout",
          "text": [
            "Model: \"sequential\"\n",
            "_________________________________________________________________\n",
            " Layer (type)                Output Shape              Param #   \n",
            "=================================================================\n",
            " keras_layer (KerasLayer)    (None, 1280)              2257984   \n",
            "                                                                 \n",
            " dropout (Dropout)           (None, 1280)              0         \n",
            "                                                                 \n",
            " dense (Dense)               (None, 5)                 6405      \n",
            "                                                                 \n",
            "=================================================================\n",
            "Total params: 2,264,389\n",
            "Trainable params: 6,405\n",
            "Non-trainable params: 2,257,984\n",
            "_________________________________________________________________\n"
          ]
        }
      ]
    },
    {
      "cell_type": "code",
      "source": [
        "\n",
        "optimizer = tf.keras.optimizers.Adam(lr=1e-3)\n",
        "model.compile(\n",
        " optimizer=optimizer,\n",
        " loss='categorical_crossentropy',\n",
        " metrics=['acc'])"
      ],
      "metadata": {
        "colab": {
          "base_uri": "https://localhost:8080/"
        },
        "id": "eOpuPWlfpHeS",
        "outputId": "a9122f34-8405-4d89-d5bb-803275281323"
      },
      "execution_count": 24,
      "outputs": [
        {
          "output_type": "stream",
          "name": "stderr",
          "text": [
            "/usr/local/lib/python3.7/dist-packages/keras/optimizer_v2/adam.py:105: UserWarning: The `lr` argument is deprecated, use `learning_rate` instead.\n",
            "  super(Adam, self).__init__(name, **kwargs)\n"
          ]
        }
      ]
    },
    {
      "cell_type": "code",
      "source": [
        "steps_per_epoch = np.ceil(train_generator.samples/train_generator.batch_size)\n",
        "val_steps_per_epoch = np.ceil(valid_generator.samples/valid_generator.batch_size)\n",
        "hist = model.fit(\n",
        " train_generator, \n",
        " epochs=12,\n",
        " verbose=1,\n",
        " steps_per_epoch=steps_per_epoch,\n",
        " validation_data=valid_generator,\n",
        " validation_steps=val_steps_per_epoch).history"
      ],
      "metadata": {
        "colab": {
          "base_uri": "https://localhost:8080/"
        },
        "id": "AjpUp_YqpJ9L",
        "outputId": "99616917-a982-4f7e-9fd6-c9d2af97e784"
      },
      "execution_count": 25,
      "outputs": [
        {
          "output_type": "stream",
          "name": "stdout",
          "text": [
            "Epoch 1/12\n",
            "109/109 [==============================] - 599s 5s/step - loss: 0.9188 - acc: 0.6537 - val_loss: 0.4653 - val_acc: 0.8477\n",
            "Epoch 2/12\n",
            "109/109 [==============================] - 26s 241ms/step - loss: 0.5071 - acc: 0.8154 - val_loss: 0.4046 - val_acc: 0.8547\n",
            "Epoch 3/12\n",
            "109/109 [==============================] - 26s 240ms/step - loss: 0.4247 - acc: 0.8473 - val_loss: 0.3472 - val_acc: 0.8814\n",
            "Epoch 4/12\n",
            "109/109 [==============================] - 26s 239ms/step - loss: 0.3755 - acc: 0.8693 - val_loss: 0.3588 - val_acc: 0.8756\n",
            "Epoch 5/12\n",
            "109/109 [==============================] - 26s 237ms/step - loss: 0.3360 - acc: 0.8846 - val_loss: 0.3344 - val_acc: 0.8791\n",
            "Epoch 6/12\n",
            "109/109 [==============================] - 26s 241ms/step - loss: 0.3146 - acc: 0.8901 - val_loss: 0.3250 - val_acc: 0.8919\n",
            "Epoch 7/12\n",
            "109/109 [==============================] - 26s 239ms/step - loss: 0.3091 - acc: 0.8921 - val_loss: 0.3336 - val_acc: 0.8814\n",
            "Epoch 8/12\n",
            "109/109 [==============================] - 26s 242ms/step - loss: 0.2772 - acc: 0.8993 - val_loss: 0.3235 - val_acc: 0.8849\n",
            "Epoch 9/12\n",
            "109/109 [==============================] - 26s 241ms/step - loss: 0.2842 - acc: 0.8970 - val_loss: 0.3120 - val_acc: 0.8849\n",
            "Epoch 10/12\n",
            "109/109 [==============================] - 26s 241ms/step - loss: 0.2562 - acc: 0.9121 - val_loss: 0.3157 - val_acc: 0.8884\n",
            "Epoch 11/12\n",
            "109/109 [==============================] - 26s 238ms/step - loss: 0.2587 - acc: 0.9132 - val_loss: 0.3182 - val_acc: 0.8837\n",
            "Epoch 12/12\n",
            "109/109 [==============================] - 26s 240ms/step - loss: 0.2491 - acc: 0.9115 - val_loss: 0.3222 - val_acc: 0.8826\n"
          ]
        }
      ]
    },
    {
      "cell_type": "code",
      "source": [
        ""
      ],
      "metadata": {
        "id": "r1Vo8LeApMsm"
      },
      "execution_count": null,
      "outputs": []
    }
  ]
}